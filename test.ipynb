{
 "cells": [
  {
   "cell_type": "code",
   "execution_count": 14,
   "metadata": {},
   "outputs": [
    {
     "name": "stdout",
     "output_type": "stream",
     "text": [
      "Pattern found in C:\\Users\\clint\\Desktop\\Studied_Trucks\\Data\\Raw\\set1\\AR_Rogers.txt.\n",
      "Pattern not found in C:\\Users\\clint\\Desktop\\Studied_Trucks\\Data\\Raw\\set1\\AZ_Guadalupe.txt.\n",
      "Pattern not found in C:\\Users\\clint\\Desktop\\Studied_Trucks\\Data\\Raw\\set1\\AZ_Tolleson.txt.\n",
      "Pattern not found in C:\\Users\\clint\\Desktop\\Studied_Trucks\\Data\\Raw\\set1\\AZ_Williams.txt.\n",
      "Pattern not found in C:\\Users\\clint\\Desktop\\Studied_Trucks\\Data\\Raw\\set1\\CA_Needles.txt.\n",
      "Pattern found in C:\\Users\\clint\\Desktop\\Studied_Trucks\\Data\\Raw\\set1\\CA_Ojai.txt.\n",
      "Pattern not found in C:\\Users\\clint\\Desktop\\Studied_Trucks\\Data\\Raw\\set1\\CT_Ashford.txt.\n"
     ]
    }
   ],
   "source": [
    "import os\n",
    "import re\n",
    "from config import pkl_name, pattern, detect_encoding, clean_line\n",
    "\n",
    "pattern = re.compile(r\"(?i)^\\d+\\.\\d+\\.\\d+|^sec\\. \\d+-\\d+[a-z]?-\\d+|^sec\\. \\d+-\\d+|^naics \\d+|^section \\d+|^§ \\d+\\.\\d+|^� \\d+-\\d+-\\d+\",re.IGNORECASE)\n",
    "\n",
    "def add_multiline_flag(pattern):\n",
    "    return re.compile(pattern.pattern, re.MULTILINE)\n",
    "\n",
    "modified_pattern = add_multiline_flag(pattern)\n",
    "\n",
    "# Function to check if the pattern exists in the file\n",
    "def check_pattern_in_file(file_path):\n",
    "    global modified_pattern\n",
    "    with open(file_path, 'r', encoding=detect_encoding(file_path), errors='replace') as file:\n",
    "        contents = file.read()\n",
    "        contents = clean_line(contents)\n",
    "        if modified_pattern.search(contents):\n",
    "            print(f\"Pattern found in {file_path}.\")\n",
    "        else:\n",
    "            print(f\"Pattern not found in {file_path}.\")\n",
    "\n",
    "# List of file paths\n",
    "file_paths = [\n",
    "    r'C:\\Users\\clint\\Desktop\\Studied_Trucks\\Data\\Raw\\set1\\AR_Rogers.txt',\n",
    "    r'C:\\Users\\clint\\Desktop\\Studied_Trucks\\Data\\Raw\\set1\\AZ_Guadalupe.txt',\n",
    "    r'C:\\Users\\clint\\Desktop\\Studied_Trucks\\Data\\Raw\\set1\\AZ_Tolleson.txt',\n",
    "    r'C:\\Users\\clint\\Desktop\\Studied_Trucks\\Data\\Raw\\set1\\AZ_Williams.txt',\n",
    "    r'C:\\Users\\clint\\Desktop\\Studied_Trucks\\Data\\Raw\\set1\\CA_Needles.txt',\n",
    "    r'C:\\Users\\clint\\Desktop\\Studied_Trucks\\Data\\Raw\\set1\\CA_Ojai.txt',\n",
    "    r'C:\\Users\\clint\\Desktop\\Studied_Trucks\\Data\\Raw\\set1\\CT_Ashford.txt'\n",
    "]\n",
    "\n",
    "# Check pattern in all specified files\n",
    "for file_path in file_paths:\n",
    "    check_pattern_in_file(file_path)"
   ]
  },
  {
   "cell_type": "code",
   "execution_count": null,
   "metadata": {},
   "outputs": [],
   "source": []
  }
 ],
 "metadata": {
  "kernelspec": {
   "display_name": "Python 3",
   "language": "python",
   "name": "python3"
  },
  "language_info": {
   "codemirror_mode": {
    "name": "ipython",
    "version": 3
   },
   "file_extension": ".py",
   "mimetype": "text/x-python",
   "name": "python",
   "nbconvert_exporter": "python",
   "pygments_lexer": "ipython3",
   "version": "3.11.9"
  }
 },
 "nbformat": 4,
 "nbformat_minor": 2
}
